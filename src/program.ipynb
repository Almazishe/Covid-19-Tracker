{
 "cells": [
  {
   "cell_type": "code",
   "execution_count": 1,
   "metadata": {},
   "outputs": [],
   "source": [
    "import os\n",
    "import datetime\n",
    "import pandas as pd\n",
    "from client import client\n",
    "    "
   ]
  },
  {
   "cell_type": "code",
   "execution_count": 2,
   "metadata": {},
   "outputs": [
    {
     "name": "stdout",
     "output_type": "stream",
     "text": [
      "Creation of the directory failed\n",
      "Creation of the directory failed\n",
      "Creation of the directory failed\n"
     ]
    }
   ],
   "source": [
    "def try_create_directory(path):\n",
    "    try:\n",
    "        os.mkdir(path)\n",
    "    except OSError:\n",
    "        print (\"Creation of the directory failed\")\n",
    "    else:\n",
    "        print (\"Directory created successfully\")\n",
    "\n",
    "try_create_directory(f'data')\n",
    "try_create_directory(f'data/by-date')\n",
    "try_create_directory(f'data/by-date-range')\n"
   ]
  },
  {
   "cell_type": "markdown",
   "metadata": {},
   "source": [
    "-------------------------------------------------------\n",
    "Countries"
   ]
  },
  {
   "cell_type": "code",
   "execution_count": 3,
   "metadata": {},
   "outputs": [],
   "source": [
    "countries = client.get_countries()\n",
    "data = {'Name': [country['name'] for country in countries]}\n",
    "df = pd.DataFrame(data, columns=['Name'])\n",
    "df.to_csv ('data/countries.csv', index = False, header=True)"
   ]
  },
  {
   "cell_type": "markdown",
   "metadata": {},
   "source": [
    "---------------------------------\n",
    "Country's today statisctics"
   ]
  },
  {
   "cell_type": "code",
   "execution_count": 4,
   "metadata": {},
   "outputs": [],
   "source": [
    "def generate_and_save_country_last_stats(country, save=True):\n",
    "    country_data = client.get_country_detail(country)\n",
    "    lastUpdate = country_data[0]['lastUpdate']\n",
    "    date = datetime.datetime.fromtimestamp(lastUpdate/1000.0)\n",
    "\n",
    "    data = {\n",
    "        'provinceState': [country_data[i]['provinceState'] for i in range(len(country_data))],\n",
    "        'Confirmed': [country_data[i]['confirmed'] for i in range(len(country_data))],\n",
    "        'Recovered': [country_data[i]['recovered'] for i in range(len(country_data))],\n",
    "        'Deaths': [country_data[i]['deaths'] for i in range(len(country_data))],\n",
    "        'Active': [country_data[i]['active'] for i in range(len(country_data))],\n",
    "        'date': [date]\n",
    "    }\n",
    "    if save:\n",
    "        df = pd.DataFrame(data, columns=['provinceState', 'Confirmed', 'Recovered', 'Deaths', 'Active', 'date'])\n",
    "        try_create_directory(f'data/by-date/{date}')\n",
    "        df.to_csv (f'data/by-date/{date}/{country}.csv', index = False, header=True)\n",
    "        \n",
    "    return data"
   ]
  },
  {
   "cell_type": "code",
   "execution_count": 82,
   "metadata": {},
   "outputs": [
    {
     "name": "stdout",
     "output_type": "stream",
     "text": [
      "Creation of the directory failed\n"
     ]
    }
   ],
   "source": [
    "country = \"Kazakhstan\"\n",
    "_ = generate_and_save_country_last_stats(country)"
   ]
  },
  {
   "cell_type": "markdown",
   "metadata": {},
   "source": [
    "_____\n",
    "Statistics of specific country for given date"
   ]
  },
  {
   "cell_type": "code",
   "execution_count": 6,
   "metadata": {},
   "outputs": [],
   "source": [
    "def generate_and_save_country_stats_by_date(country, day, month, year, save=True):\n",
    "    country_data = client.get_country_stats_by_date(country, day, month, year)\n",
    "    lastUpdate = country_data[0]['lastUpdate']\n",
    "    date = datetime.datetime.strptime(lastUpdate, '%Y-%m-%d %H:%M:%S')\n",
    "\n",
    "    data = {\n",
    "        'provinceState': [country_data[i]['provinceState'] for i in range(len(country_data))],\n",
    "        'Confirmed': [country_data[i]['confirmed'] for i in range(len(country_data))],\n",
    "        'Recovered': [country_data[i]['recovered'] for i in range(len(country_data))],\n",
    "        'Deaths': [country_data[i]['deaths'] for i in range(len(country_data))],\n",
    "        'Active': [country_data[i]['active'] for i in range(len(country_data))],\n",
    "        'date': [date] * len(country_data)\n",
    "    }\n",
    "\n",
    "    if save:\n",
    "        df = pd.DataFrame(data, columns=['provinceState', 'Confirmed', 'Recovered', 'Deaths', 'Active', 'date'])\n",
    "        try_create_directory(f'data/by-date/{date}')\n",
    "        df.to_csv (f'data/by-date/{date}/{country}.csv', index = False, header=True)\n",
    "    return data"
   ]
  },
  {
   "cell_type": "code",
   "execution_count": 7,
   "metadata": {},
   "outputs": [
    {
     "name": "stdout",
     "output_type": "stream",
     "text": [
      "Creation of the directory failed\n"
     ]
    }
   ],
   "source": [
    "country = \"China\"\n",
    "year = 2021\n",
    "month = 1\n",
    "day = 25\n",
    "_ = generate_and_save_country_stats_by_date(country, day, month, year)"
   ]
  },
  {
   "cell_type": "markdown",
   "metadata": {},
   "source": [
    "___________\n",
    "Statisctics of world situation for given date"
   ]
  },
  {
   "cell_type": "code",
   "execution_count": 8,
   "metadata": {},
   "outputs": [],
   "source": [
    "\n",
    "def generate_and_save_world_stats_by_date(day, month, year, save=True):\n",
    "    world_data = client.get_world_stats_by_date(day, month, year)\n",
    "    lastUpdate = world_data[0]['lastUpdate']\n",
    "    date = datetime.datetime.strptime(lastUpdate, '%Y-%m-%d %H:%M:%S')\n",
    "\n",
    "    data = {\n",
    "        'country': [world_data[i]['countryRegion'] for i in range(len(world_data))],\n",
    "        'provinceState': [world_data[i]['provinceState'] for i in range(len(world_data))],\n",
    "        'Confirmed': [world_data[i]['confirmed'] for i in range(len(world_data))],\n",
    "        'Recovered': [world_data[i]['recovered'] for i in range(len(world_data))],\n",
    "        'Deaths': [world_data[i]['deaths'] for i in range(len(world_data))],\n",
    "        'Active': [world_data[i]['active'] for i in range(len(world_data))],\n",
    "        'date': [date] * len(world_data)\n",
    "    }\n",
    "    \n",
    "    if save:\n",
    "        df = pd.DataFrame(data, columns=['country', 'provinceState', 'Confirmed', 'Recovered', 'Deaths', 'Active', 'date'])\n",
    "        try_create_directory(f'data/by-date/{date}')\n",
    "        try_create_directory(f'data/by-date/{date}/world')\n",
    "        df.to_csv (f'data/by-date/{date}/world/World.csv', index = False, header=True)\n",
    "\n",
    "    return data\n",
    "        "
   ]
  },
  {
   "cell_type": "code",
   "execution_count": 9,
   "metadata": {},
   "outputs": [
    {
     "name": "stdout",
     "output_type": "stream",
     "text": [
      "Creation of the directory failed\n",
      "Creation of the directory failed\n"
     ]
    }
   ],
   "source": [
    "year = 2021\n",
    "month = 1\n",
    "day = 25\n",
    "_ = generate_and_save_world_stats_by_date(day, month, year)"
   ]
  },
  {
   "cell_type": "markdown",
   "metadata": {},
   "source": [
    "_____\n",
    "Statistics of country for specific period of time"
   ]
  },
  {
   "cell_type": "code",
   "execution_count": 23,
   "metadata": {},
   "outputs": [],
   "source": [
    "def generate_and_save_contry_stats_in_date_range(country, date1, date2, save=True):\n",
    "    if len(date1) != 3 or len(date2) != 3:\n",
    "        raise Exception(\"Incorrect format of date.\")\n",
    "\n",
    "    start_date = datetime.date(*reversed(date1))\n",
    "    end_date = datetime.date(*reversed(date2))\n",
    "    day_count = (end_date - start_date).days + 1\n",
    "\n",
    "    if day_count <= 0:\n",
    "        raise Exception(\"Start date must be before end date.\")\n",
    "    \n",
    "    data = {\n",
    "        'provinceState': [],\n",
    "        'Confirmed': [],\n",
    "        'Recovered': [],\n",
    "        'Deaths': [],\n",
    "        'Active': [],\n",
    "        'date': []\n",
    "    }\n",
    "\n",
    "    for date in (start_date + datetime.timedelta(n) for n in range(day_count)):\n",
    "        try:\n",
    "            date_data = generate_and_save_country_stats_by_date(country, date.day, date.month, date.year, save=False)\n",
    "            for key in data.keys():\n",
    "                data[key] += date_data[key]\n",
    "            \n",
    "\n",
    "        except Exception as e:\n",
    "            print(e)\n",
    "\n",
    "    if save:\n",
    "        df = pd.DataFrame(data, columns=['provinceState', 'Confirmed', 'Recovered', 'Deaths', 'Active', 'date'])\n",
    "        try_create_directory(f'data/by-date-range/{start_date} --> {end_date}')\n",
    "        df.to_csv (f'data/by-date-range/{start_date} --> {end_date}/{country}.csv', index = False, header=True)\n",
    "    return data\n"
   ]
  },
  {
   "cell_type": "code",
   "execution_count": 25,
   "metadata": {},
   "outputs": [
    {
     "name": "stdout",
     "output_type": "stream",
     "text": [
      "Directory created successfully\n"
     ]
    },
    {
     "data": {
      "text/plain": "{'provinceState': ['Anhui',\n  'Beijing',\n  'Chongqing',\n  'Fujian',\n  'Gansu',\n  'Guangdong',\n  'Guangxi',\n  'Guizhou',\n  'Hainan',\n  'Hebei',\n  'Heilongjiang',\n  'Henan',\n  'Hong Kong',\n  'Hubei',\n  'Hunan',\n  'Inner Mongolia',\n  'Jiangsu',\n  'Jiangxi',\n  'Jilin',\n  'Liaoning',\n  'Macau',\n  'Ningxia',\n  'Qinghai',\n  'Shaanxi',\n  'Shandong',\n  'Shanghai',\n  'Shanxi',\n  'Sichuan',\n  'Tianjin',\n  'Tibet',\n  'Xinjiang',\n  'Yunnan',\n  'Zhejiang',\n  'Anhui',\n  'Beijing',\n  'Chongqing',\n  'Fujian',\n  'Gansu',\n  'Guangdong',\n  'Guangxi',\n  'Guizhou',\n  'Hainan',\n  'Hebei',\n  'Heilongjiang',\n  'Henan',\n  'Hong Kong',\n  'Hubei',\n  'Hunan',\n  'Inner Mongolia',\n  'Jiangsu',\n  'Jiangxi',\n  'Jilin',\n  'Liaoning',\n  'Macau',\n  'Ningxia',\n  'Qinghai',\n  'Shaanxi',\n  'Shandong',\n  'Shanghai',\n  'Shanxi',\n  'Sichuan',\n  'Tianjin',\n  'Tibet',\n  'Xinjiang',\n  'Yunnan',\n  'Zhejiang',\n  'Anhui',\n  'Beijing',\n  'Chongqing',\n  'Fujian',\n  'Gansu',\n  'Guangdong',\n  'Guangxi',\n  'Guizhou',\n  'Hainan',\n  'Hebei',\n  'Heilongjiang',\n  'Henan',\n  'Hong Kong',\n  'Hubei',\n  'Hunan',\n  'Inner Mongolia',\n  'Jiangsu',\n  'Jiangxi',\n  'Jilin',\n  'Liaoning',\n  'Macau',\n  'Ningxia',\n  'Qinghai',\n  'Shaanxi',\n  'Shandong',\n  'Shanghai',\n  'Shanxi',\n  'Sichuan',\n  'Tianjin',\n  'Tibet',\n  'Xinjiang',\n  'Yunnan',\n  'Zhejiang',\n  'Anhui',\n  'Beijing',\n  'Chongqing',\n  'Fujian',\n  'Gansu',\n  'Guangdong',\n  'Guangxi',\n  'Guizhou',\n  'Hainan',\n  'Hebei',\n  'Heilongjiang',\n  'Henan',\n  'Hong Kong',\n  'Hubei',\n  'Hunan',\n  'Inner Mongolia',\n  'Jiangsu',\n  'Jiangxi',\n  'Jilin',\n  'Liaoning',\n  'Macau',\n  'Ningxia',\n  'Qinghai',\n  'Shaanxi',\n  'Shandong',\n  'Shanghai',\n  'Shanxi',\n  'Sichuan',\n  'Tianjin',\n  'Tibet',\n  'Xinjiang',\n  'Yunnan',\n  'Zhejiang'],\n 'Confirmed': ['991',\n  '593',\n  '579',\n  '358',\n  '139',\n  '1596',\n  '254',\n  '147',\n  '169',\n  '328',\n  '945',\n  '1276',\n  '1087',\n  '68135',\n  '1019',\n  '235',\n  '653',\n  '937',\n  '155',\n  '149',\n  '45',\n  '75',\n  '18',\n  '309',\n  '792',\n  '673',\n  '198',\n  '577',\n  '192',\n  '1',\n  '76',\n  '185',\n  '1268',\n  '991',\n  '593',\n  '579',\n  '358',\n  '139',\n  '1597',\n  '254',\n  '147',\n  '169',\n  '328',\n  '945',\n  '1276',\n  '1093',\n  '68135',\n  '1019',\n  '235',\n  '653',\n  '937',\n  '155',\n  '149',\n  '45',\n  '75',\n  '18',\n  '309',\n  '792',\n  '673',\n  '198',\n  '577',\n  '192',\n  '1',\n  '76',\n  '185',\n  '1268',\n  '991',\n  '594',\n  '579',\n  '358',\n  '139',\n  '1598',\n  '254',\n  '147',\n  '169',\n  '328',\n  '947',\n  '1276',\n  '1093',\n  '68135',\n  '1019',\n  '235',\n  '653',\n  '932',\n  '155',\n  '149',\n  '45',\n  '75',\n  '18',\n  '309',\n  '792',\n  '673',\n  '198',\n  '577',\n  '192',\n  '1',\n  '76',\n  '185',\n  '1268',\n  '991',\n  '594',\n  '579',\n  '358',\n  '139',\n  '1598',\n  '254',\n  '147',\n  '169',\n  '328',\n  '947',\n  '1276',\n  '1099',\n  '68135',\n  '1019',\n  '235',\n  '653',\n  '932',\n  '155',\n  '149',\n  '45',\n  '75',\n  '18',\n  '309',\n  '792',\n  '677',\n  '198',\n  '578',\n  '192',\n  '1',\n  '76',\n  '185',\n  '1268'],\n 'Recovered': ['985',\n  '581',\n  '573',\n  '356',\n  '137',\n  '1583',\n  '252',\n  '145',\n  '163',\n  '322',\n  '932',\n  '1254',\n  '1037',\n  '63620',\n  '1015',\n  '209',\n  '653',\n  '936',\n  '147',\n  '147',\n  '45',\n  '75',\n  '18',\n  '305',\n  '780',\n  '660',\n  '198',\n  '558',\n  '188',\n  '1',\n  '73',\n  '183',\n  '1267',\n  '985',\n  '581',\n  '573',\n  '356',\n  '137',\n  '1583',\n  '252',\n  '145',\n  '163',\n  '322',\n  '932',\n  '1254',\n  '1038',\n  '63620',\n  '1015',\n  '209',\n  '653',\n  '936',\n  '147',\n  '147',\n  '45',\n  '75',\n  '18',\n  '305',\n  '780',\n  '661',\n  '198',\n  '558',\n  '188',\n  '1',\n  '73',\n  '183',\n  '1267',\n  '985',\n  '583',\n  '573',\n  '356',\n  '137',\n  '1583',\n  '252',\n  '145',\n  '163',\n  '322',\n  '934',\n  '1254',\n  '1039',\n  '63620',\n  '1015',\n  '212',\n  '653',\n  '931',\n  '148',\n  '147',\n  '45',\n  '75',\n  '18',\n  '305',\n  '780',\n  '661',\n  '198',\n  '558',\n  '188',\n  '1',\n  '73',\n  '183',\n  '1267',\n  '985',\n  '583',\n  '573',\n  '356',\n  '137',\n  '1584',\n  '252',\n  '145',\n  '163',\n  '322',\n  '934',\n  '1254',\n  '1042',\n  '63623',\n  '1015',\n  '213',\n  '653',\n  '931',\n  '149',\n  '147',\n  '45',\n  '75',\n  '18',\n  '305',\n  '780',\n  '662',\n  '198',\n  '558',\n  '189',\n  '1',\n  '73',\n  '183',\n  '1267'],\n 'Deaths': ['6',\n  '9',\n  '6',\n  '1',\n  '2',\n  '8',\n  '2',\n  '2',\n  '6',\n  '6',\n  '13',\n  '22',\n  '4',\n  '4512',\n  '4',\n  '1',\n  '0',\n  '1',\n  '2',\n  '2',\n  '0',\n  '0',\n  '0',\n  '3',\n  '7',\n  '7',\n  '0',\n  '3',\n  '3',\n  '0',\n  '3',\n  '2',\n  '1',\n  '6',\n  '9',\n  '6',\n  '1',\n  '2',\n  '8',\n  '2',\n  '2',\n  '6',\n  '6',\n  '13',\n  '22',\n  '4',\n  '4512',\n  '4',\n  '1',\n  '0',\n  '1',\n  '2',\n  '2',\n  '0',\n  '0',\n  '0',\n  '3',\n  '7',\n  '7',\n  '0',\n  '3',\n  '3',\n  '0',\n  '3',\n  '2',\n  '1',\n  '6',\n  '9',\n  '6',\n  '1',\n  '2',\n  '8',\n  '2',\n  '2',\n  '6',\n  '6',\n  '13',\n  '22',\n  '4',\n  '4512',\n  '4',\n  '1',\n  '0',\n  '1',\n  '2',\n  '2',\n  '0',\n  '0',\n  '0',\n  '3',\n  '7',\n  '7',\n  '0',\n  '3',\n  '3',\n  '0',\n  '3',\n  '2',\n  '1',\n  '6',\n  '9',\n  '6',\n  '1',\n  '2',\n  '8',\n  '2',\n  '2',\n  '6',\n  '6',\n  '13',\n  '22',\n  '4',\n  '4512',\n  '4',\n  '1',\n  '0',\n  '1',\n  '2',\n  '2',\n  '0',\n  '0',\n  '0',\n  '3',\n  '7',\n  '7',\n  '0',\n  '3',\n  '3',\n  '0',\n  '3',\n  '2',\n  '1'],\n 'Active': ['0',\n  '3',\n  '0',\n  '1',\n  '0',\n  '5',\n  '0',\n  '0',\n  '0',\n  '0',\n  '0',\n  '0',\n  '46',\n  '3',\n  '0',\n  '25',\n  '0',\n  '0',\n  '6',\n  '0',\n  '0',\n  '0',\n  '0',\n  '1',\n  '5',\n  '6',\n  '0',\n  '16',\n  '1',\n  '0',\n  '0',\n  '0',\n  '0',\n  '0',\n  '3',\n  '0',\n  '1',\n  '0',\n  '6',\n  '0',\n  '0',\n  '0',\n  '0',\n  '0',\n  '0',\n  '51',\n  '3',\n  '0',\n  '25',\n  '0',\n  '0',\n  '6',\n  '0',\n  '0',\n  '0',\n  '0',\n  '1',\n  '5',\n  '5',\n  '0',\n  '16',\n  '1',\n  '0',\n  '0',\n  '0',\n  '0',\n  '0',\n  '2',\n  '0',\n  '1',\n  '0',\n  '7',\n  '0',\n  '0',\n  '0',\n  '0',\n  '0',\n  '0',\n  '50',\n  '3',\n  '0',\n  '22',\n  '0',\n  '0',\n  '5',\n  '0',\n  '0',\n  '0',\n  '0',\n  '1',\n  '5',\n  '5',\n  '0',\n  '16',\n  '1',\n  '0',\n  '0',\n  '0',\n  '0',\n  '0',\n  '2',\n  '0',\n  '1',\n  '0',\n  '6',\n  '0',\n  '0',\n  '0',\n  '0',\n  '0',\n  '0',\n  '53',\n  '0',\n  '0',\n  '21',\n  '0',\n  '0',\n  '4',\n  '0',\n  '0',\n  '0',\n  '0',\n  '1',\n  '5',\n  '8',\n  '0',\n  '17',\n  '0',\n  '0',\n  '0',\n  '0',\n  '0'],\n 'date': [datetime.datetime(2020, 6, 2, 2, 33, 8),\n  datetime.datetime(2020, 6, 2, 2, 33, 8),\n  datetime.datetime(2020, 6, 2, 2, 33, 8),\n  datetime.datetime(2020, 6, 2, 2, 33, 8),\n  datetime.datetime(2020, 6, 2, 2, 33, 8),\n  datetime.datetime(2020, 6, 2, 2, 33, 8),\n  datetime.datetime(2020, 6, 2, 2, 33, 8),\n  datetime.datetime(2020, 6, 2, 2, 33, 8),\n  datetime.datetime(2020, 6, 2, 2, 33, 8),\n  datetime.datetime(2020, 6, 2, 2, 33, 8),\n  datetime.datetime(2020, 6, 2, 2, 33, 8),\n  datetime.datetime(2020, 6, 2, 2, 33, 8),\n  datetime.datetime(2020, 6, 2, 2, 33, 8),\n  datetime.datetime(2020, 6, 2, 2, 33, 8),\n  datetime.datetime(2020, 6, 2, 2, 33, 8),\n  datetime.datetime(2020, 6, 2, 2, 33, 8),\n  datetime.datetime(2020, 6, 2, 2, 33, 8),\n  datetime.datetime(2020, 6, 2, 2, 33, 8),\n  datetime.datetime(2020, 6, 2, 2, 33, 8),\n  datetime.datetime(2020, 6, 2, 2, 33, 8),\n  datetime.datetime(2020, 6, 2, 2, 33, 8),\n  datetime.datetime(2020, 6, 2, 2, 33, 8),\n  datetime.datetime(2020, 6, 2, 2, 33, 8),\n  datetime.datetime(2020, 6, 2, 2, 33, 8),\n  datetime.datetime(2020, 6, 2, 2, 33, 8),\n  datetime.datetime(2020, 6, 2, 2, 33, 8),\n  datetime.datetime(2020, 6, 2, 2, 33, 8),\n  datetime.datetime(2020, 6, 2, 2, 33, 8),\n  datetime.datetime(2020, 6, 2, 2, 33, 8),\n  datetime.datetime(2020, 6, 2, 2, 33, 8),\n  datetime.datetime(2020, 6, 2, 2, 33, 8),\n  datetime.datetime(2020, 6, 2, 2, 33, 8),\n  datetime.datetime(2020, 6, 2, 2, 33, 8),\n  datetime.datetime(2020, 6, 3, 2, 33, 13),\n  datetime.datetime(2020, 6, 3, 2, 33, 13),\n  datetime.datetime(2020, 6, 3, 2, 33, 13),\n  datetime.datetime(2020, 6, 3, 2, 33, 13),\n  datetime.datetime(2020, 6, 3, 2, 33, 13),\n  datetime.datetime(2020, 6, 3, 2, 33, 13),\n  datetime.datetime(2020, 6, 3, 2, 33, 13),\n  datetime.datetime(2020, 6, 3, 2, 33, 13),\n  datetime.datetime(2020, 6, 3, 2, 33, 13),\n  datetime.datetime(2020, 6, 3, 2, 33, 13),\n  datetime.datetime(2020, 6, 3, 2, 33, 13),\n  datetime.datetime(2020, 6, 3, 2, 33, 13),\n  datetime.datetime(2020, 6, 3, 2, 33, 13),\n  datetime.datetime(2020, 6, 3, 2, 33, 13),\n  datetime.datetime(2020, 6, 3, 2, 33, 13),\n  datetime.datetime(2020, 6, 3, 2, 33, 13),\n  datetime.datetime(2020, 6, 3, 2, 33, 13),\n  datetime.datetime(2020, 6, 3, 2, 33, 13),\n  datetime.datetime(2020, 6, 3, 2, 33, 13),\n  datetime.datetime(2020, 6, 3, 2, 33, 13),\n  datetime.datetime(2020, 6, 3, 2, 33, 13),\n  datetime.datetime(2020, 6, 3, 2, 33, 13),\n  datetime.datetime(2020, 6, 3, 2, 33, 13),\n  datetime.datetime(2020, 6, 3, 2, 33, 13),\n  datetime.datetime(2020, 6, 3, 2, 33, 13),\n  datetime.datetime(2020, 6, 3, 2, 33, 13),\n  datetime.datetime(2020, 6, 3, 2, 33, 13),\n  datetime.datetime(2020, 6, 3, 2, 33, 13),\n  datetime.datetime(2020, 6, 3, 2, 33, 13),\n  datetime.datetime(2020, 6, 3, 2, 33, 13),\n  datetime.datetime(2020, 6, 3, 2, 33, 13),\n  datetime.datetime(2020, 6, 3, 2, 33, 13),\n  datetime.datetime(2020, 6, 3, 2, 33, 13),\n  datetime.datetime(2020, 6, 4, 2, 33, 14),\n  datetime.datetime(2020, 6, 4, 2, 33, 14),\n  datetime.datetime(2020, 6, 4, 2, 33, 14),\n  datetime.datetime(2020, 6, 4, 2, 33, 14),\n  datetime.datetime(2020, 6, 4, 2, 33, 14),\n  datetime.datetime(2020, 6, 4, 2, 33, 14),\n  datetime.datetime(2020, 6, 4, 2, 33, 14),\n  datetime.datetime(2020, 6, 4, 2, 33, 14),\n  datetime.datetime(2020, 6, 4, 2, 33, 14),\n  datetime.datetime(2020, 6, 4, 2, 33, 14),\n  datetime.datetime(2020, 6, 4, 2, 33, 14),\n  datetime.datetime(2020, 6, 4, 2, 33, 14),\n  datetime.datetime(2020, 6, 4, 2, 33, 14),\n  datetime.datetime(2020, 6, 4, 2, 33, 14),\n  datetime.datetime(2020, 6, 4, 2, 33, 14),\n  datetime.datetime(2020, 6, 4, 2, 33, 14),\n  datetime.datetime(2020, 6, 4, 2, 33, 14),\n  datetime.datetime(2020, 6, 4, 2, 33, 14),\n  datetime.datetime(2020, 6, 4, 2, 33, 14),\n  datetime.datetime(2020, 6, 4, 2, 33, 14),\n  datetime.datetime(2020, 6, 4, 2, 33, 14),\n  datetime.datetime(2020, 6, 4, 2, 33, 14),\n  datetime.datetime(2020, 6, 4, 2, 33, 14),\n  datetime.datetime(2020, 6, 4, 2, 33, 14),\n  datetime.datetime(2020, 6, 4, 2, 33, 14),\n  datetime.datetime(2020, 6, 4, 2, 33, 14),\n  datetime.datetime(2020, 6, 4, 2, 33, 14),\n  datetime.datetime(2020, 6, 4, 2, 33, 14),\n  datetime.datetime(2020, 6, 4, 2, 33, 14),\n  datetime.datetime(2020, 6, 4, 2, 33, 14),\n  datetime.datetime(2020, 6, 4, 2, 33, 14),\n  datetime.datetime(2020, 6, 4, 2, 33, 14),\n  datetime.datetime(2020, 6, 4, 2, 33, 14),\n  datetime.datetime(2020, 6, 5, 2, 33, 6),\n  datetime.datetime(2020, 6, 5, 2, 33, 6),\n  datetime.datetime(2020, 6, 5, 2, 33, 6),\n  datetime.datetime(2020, 6, 5, 2, 33, 6),\n  datetime.datetime(2020, 6, 5, 2, 33, 6),\n  datetime.datetime(2020, 6, 5, 2, 33, 6),\n  datetime.datetime(2020, 6, 5, 2, 33, 6),\n  datetime.datetime(2020, 6, 5, 2, 33, 6),\n  datetime.datetime(2020, 6, 5, 2, 33, 6),\n  datetime.datetime(2020, 6, 5, 2, 33, 6),\n  datetime.datetime(2020, 6, 5, 2, 33, 6),\n  datetime.datetime(2020, 6, 5, 2, 33, 6),\n  datetime.datetime(2020, 6, 5, 2, 33, 6),\n  datetime.datetime(2020, 6, 5, 2, 33, 6),\n  datetime.datetime(2020, 6, 5, 2, 33, 6),\n  datetime.datetime(2020, 6, 5, 2, 33, 6),\n  datetime.datetime(2020, 6, 5, 2, 33, 6),\n  datetime.datetime(2020, 6, 5, 2, 33, 6),\n  datetime.datetime(2020, 6, 5, 2, 33, 6),\n  datetime.datetime(2020, 6, 5, 2, 33, 6),\n  datetime.datetime(2020, 6, 5, 2, 33, 6),\n  datetime.datetime(2020, 6, 5, 2, 33, 6),\n  datetime.datetime(2020, 6, 5, 2, 33, 6),\n  datetime.datetime(2020, 6, 5, 2, 33, 6),\n  datetime.datetime(2020, 6, 5, 2, 33, 6),\n  datetime.datetime(2020, 6, 5, 2, 33, 6),\n  datetime.datetime(2020, 6, 5, 2, 33, 6),\n  datetime.datetime(2020, 6, 5, 2, 33, 6),\n  datetime.datetime(2020, 6, 5, 2, 33, 6),\n  datetime.datetime(2020, 6, 5, 2, 33, 6),\n  datetime.datetime(2020, 6, 5, 2, 33, 6),\n  datetime.datetime(2020, 6, 5, 2, 33, 6),\n  datetime.datetime(2020, 6, 5, 2, 33, 6)]}"
     },
     "execution_count": 25,
     "metadata": {},
     "output_type": "execute_result"
    }
   ],
   "source": [
    "country = \"China\"\n",
    "date1 = (1,6,2020)\n",
    "date2 = (4,6,2020)\n",
    "\n",
    "_ = generate_and_save_contry_stats_in_date_range(country, date1, date2)"
   ]
  }
 ],
 "metadata": {
  "kernelspec": {
   "display_name": "Python 3",
   "language": "python",
   "name": "python3"
  },
  "language_info": {
   "codemirror_mode": {
    "name": "ipython",
    "version": 3
   },
   "file_extension": ".py",
   "mimetype": "text/x-python",
   "name": "python",
   "nbconvert_exporter": "python",
   "pygments_lexer": "ipython3",
   "version": "3.8.5"
  },
  "orig_nbformat": 2
 },
 "nbformat": 4,
 "nbformat_minor": 2
}